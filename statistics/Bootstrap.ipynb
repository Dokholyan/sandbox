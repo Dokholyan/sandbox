{
 "cells": [
  {
   "cell_type": "markdown",
   "metadata": {},
   "source": [
    "# Bootstrap"
   ]
  },
  {
   "cell_type": "markdown",
   "metadata": {},
   "source": [
    "У нас часто бывает потребность вычислить некоторую величину по выборке. Но точечная оценка далеко не всегда информативна и нам хочется получить дисперсию нашей оценки и посчитать доверительный интервал. В случаи когда искомая статистика это среднее, то можно аналитически выписать формулу для дисперсии нашей оценки.\n",
    "\n",
    "Иногда нужно посчитать какую-то сложную статистику для которой трудно/невозможно посчитать аналитическую формулу. Сложности могут возникнуть уже при подсчете дисперсии медианы(как минимум у меня). В таких ситуациях стоит использовать bootstrap"
   ]
  },
  {
   "cell_type": "code",
   "execution_count": 1,
   "metadata": {},
   "outputs": [],
   "source": [
    "import numpy as np\n",
    "import scipy.stats as st\n",
    "import os\n",
    "import matplotlib.pyplot as plt\n",
    "import multiprocessing as mp\n",
    "\n",
    "from tqdm.notebook import tqdm\n",
    "from typing import Optional, List, Tuple, Dict\n",
    "from sklearn.metrics import precision_score, recall_score, f1_score"
   ]
  },
  {
   "cell_type": "code",
   "execution_count": 2,
   "metadata": {},
   "outputs": [],
   "source": [
    "def hist(x: np.ndarray,\n",
    "         bins: Optional[int] = None,\n",
    "         density: bool = True,\n",
    "         cumulative: bool = False,\n",
    "         xlabel: Optional[str] = None,\n",
    "         ylabel: Optional[str] = None,\n",
    "         title: Optional[str] = None) -> None:\n",
    "    plt.hist(x, bins=bins, density=density, cumulative=cumulative);\n",
    "    plt.xlabel(xlabel)\n",
    "    plt.ylabel(ylabel)\n",
    "    plt.title(title)\n",
    "    plt.show()"
   ]
  },
  {
   "cell_type": "markdown",
   "metadata": {},
   "source": [
    "### Пример: медиана"
   ]
  },
  {
   "cell_type": "code",
   "execution_count": 3,
   "metadata": {},
   "outputs": [
    {
     "name": "stdout",
     "output_type": "stream",
     "text": [
      "median: 0.9860091813326056\n"
     ]
    }
   ],
   "source": [
    "# Сгенерируем нормальное распределение \n",
    "n_points = 1000\n",
    "x = np.random.normal(1, 4, size=n_points)\n",
    "median = np.median(x)\n",
    "print('median:', median)"
   ]
  },
  {
   "cell_type": "code",
   "execution_count": 4,
   "metadata": {},
   "outputs": [],
   "source": [
    "n_bootstraps = 10000\n",
    "# сгенерируем n_bootstraps выборок с созвращением\n",
    "bootstrapped_x = np.random.choice(x, size=(n_bootstraps, n_points))\n",
    "# для каждой из них посчитаем медиану\n",
    "bootstrapped_median = np.median(bootstrapped_x, axis=1)"
   ]
  },
  {
   "cell_type": "code",
   "execution_count": 5,
   "metadata": {},
   "outputs": [
    {
     "data": {
      "image/png": "[encoded data removed]",
      "text/plain": [
       "<Figure size 432x288 with 1 Axes>"
      ]
     },
     "metadata": {
      "needs_background": "light"
     },
     "output_type": "display_data"
    }
   ],
   "source": [
    "# Рассмотрим распределение медианы\n",
    "hist(bootstrapped_median, bins=15, ylabel='density', title='Empirical median distribution')"
   ]
  },
  {
   "cell_type": "markdown",
   "metadata": {},
   "source": [
    "Если есть функция распределения, то можно взять 0.025 и 0.975 квантили этого распределения и получим значение в котором случайная величина окажется в 95% случаев"
   ]
  },
  {
   "cell_type": "code",
   "execution_count": 6,
   "metadata": {},
   "outputs": [
    {
     "name": "stdout",
     "output_type": "stream",
     "text": [
      "95% confidence interval: (0.6659, 1.2819)\n",
      "std: 0.17269509793311724\n"
     ]
    }
   ],
   "source": [
    "bootstrapped_median = sorted(bootstrapped_median)\n",
    "left = bootstrapped_median[int(n_bootstraps * 0.025)]\n",
    "right = bootstrapped_median[int(n_bootstraps * 0.975)]\n",
    "\n",
    "print(f'95% confidence interval: ({np.round(left, 4)}, {np.round(right, 4)})')\n",
    "print(f'std: {np.std(bootstrapped_median)}')"
   ]
  },
  {
   "cell_type": "markdown",
   "metadata": {},
   "source": [
    "## Формально\n",
    "\n",
    "Допустим что у нас есть выборка  $x_1, x_2, ..., x_i, ...,  x_n \\sim F$  , наблюдения независимы. У нас есть некоторый статистический функционал $T = g( x_1, x_2, ..., x_i,..., x_n)$, и мы хотим посчитать $Var(T)$ или доверительный интервал.\n",
    "\n",
    "**Алгоритм оценки дисперсии:**\n",
    "\n",
    "1. Мы генерируем множество выборок($B$ штук) с возвращением типа $x_1^*, x_2^*, ..., x_i^*, ...,  x_n^*  \\sim \\widehat{F}$ \n",
    "2. Для каждой из них посчитаем нашу статистику, получаем $(T_1^*, T_2^*, ..., T_B^*)$ \n",
    "3. Теперь считаем дисперсию получившийся выборки и $Var(T)\\sim Var(T^*)$  то есть: $V_{boot} = 1 \\dfrac{1}{B} \\sum_1^B (T_b^* - \\frac{1}{B}\\sum_{r=1}^B T_i^*)^2$\n",
    "\n",
    "\n",
    "**Алгоритм оценки доверительного интервала**\n",
    "\n",
    "Обозначения:\n",
    "\n",
    "$\\widehat{T} -$это точечная оценка нашей статистики полученная на исходной выборке\n",
    "\n",
    "$\\alpha -$ уровень значимости\n",
    "\n",
    "*Нормальный интервал*\n",
    "\n",
    "1. Находим дисперсию, способом выше, считаем $\\widehat {se}_{boot} = \\sqrt{V_{boot}}$  - оценка стандартной ошибки на основе бутстрепа.\n",
    "2. Доверительный интервал: $\\widehat{T} \\pm z_{\\alpha/2} * \\widehat {se}_{boot}$, где  $z_{\\alpha/2}$ - это квантиль нормального стандартного распределения\n",
    "\n",
    "Метод хорошо работает, если распределение данных близко к нормальному распределению. \n",
    "\n",
    "*Центральный интервал*\n",
    "\n",
    "1. Семплируем выборки.\n",
    "2. Для каждой из них находим нашу статистику $T_i^*$\n",
    "3. Считаем квантили получившийся выборки $T^*_{\\alpha/2}$, $T^*_{1 - \\alpha/2}$ \n",
    "4. Доверительный интервал: $(2 \\widehat{T} - T^*_{1 - \\alpha/2} , 2 \\widehat{T} - T^*_{\\alpha/2})$\n",
    "\n",
    "Отлично работает в большинстве случаев, теоретически хорошо обоснован\n",
    "\n",
    "*Интервал по процентилям*\n",
    "\n",
    "1. Семплируем выборки.\n",
    "2. Для каждой из них находим нашу статистику $T_i^*$\n",
    "3. Считаем квантили получившийся выборки $T^*_{\\alpha/2}$, $T^*_{1 - \\alpha/2}$ \n",
    "4. Доверительный интервал: $(T^*_{\\alpha/2} , T^*_{1 - \\alpha/2})$\n",
    "\n",
    "Хорошо работает с симметричными распределениями, могут быть проблемы с сильно скошенными.\n",
    "\n",
    "На практике все 3 метода дают примерно одинаковый результат."
   ]
  },
  {
   "cell_type": "code",
   "execution_count": 7,
   "metadata": {},
   "outputs": [],
   "source": [
    "def compute_normal_confidence_interval(bootstraped_metric: List[float],\n",
    "                                       estimate: Optional[float] = None,\n",
    "                                       alpha: float = 0.05) -> Tuple[float, float]:\n",
    "    # получаем квантили стандартного нормального распределения\n",
    "    z_alpha = st.norm.ppf(1 - alpha / 2, loc=0.0, scale=1.0)\n",
    "    se = np.std(bootstraped_metric)\n",
    "    left = estimate - z_alpha * se\n",
    "    right = estimate + z_alpha * se\n",
    "    return left, right\n",
    "\n",
    "def compute_percentiles_confidence_interval(bootstraped_metric: List[float],\n",
    "                                       estimate: Optional[float] = None,\n",
    "                                       alpha: float = 0.05) -> Tuple[float, float]:\n",
    "    bootstraped_metric = np.sort(bootstraped_metric)\n",
    "    n_bootstrap = len(bootstraped_metric)\n",
    "    left = bootstraped_metric[int(alpha / 2 * n_bootstrap)]\n",
    "    right = bootstraped_metric[int((1 - alpha / 2) * n_bootstrap)]\n",
    "    return left, right\n",
    "\n",
    "def compute_central_confidence_interval(bootstraped_metric: List[float],\n",
    "                                       estimate: Optional[float] = None,\n",
    "                                       alpha: float = 0.05) -> Tuple[float, float]:\n",
    "    bootstraped_metric = np.sort(bootstraped_metric)\n",
    "    n_bootstrap = len(bootstraped_metric)\n",
    "    left = 2 * estimate - bootstraped_metric[int((1 - alpha / 2) * n_bootstrap)]\n",
    "    right = 2 * estimate - bootstraped_metric[int(alpha / 2 * n_bootstrap)]\n",
    "    return left, right"
   ]
  },
  {
   "cell_type": "code",
   "execution_count": 8,
   "metadata": {},
   "outputs": [
    {
     "name": "stdout",
     "output_type": "stream",
     "text": [
      "95% normal confidence interval: (0.6475, 1.3245)\n",
      "95% percentiles confidence interval: (0.6659, 1.2819)\n",
      "95% central confidence interval: (0.6902, 1.3062)\n"
     ]
    }
   ],
   "source": [
    "left, right = compute_normal_confidence_interval(bootstrapped_median, median)\n",
    "print(f'95% normal confidence interval: ({np.round(left, 4)}, {np.round(right, 4)})')\n",
    "\n",
    "left, right = compute_percentiles_confidence_interval(bootstrapped_median, median)\n",
    "print(f'95% percentiles confidence interval: ({np.round(left, 4)}, {np.round(right, 4)})')\n",
    "\n",
    "left, right = compute_central_confidence_interval(bootstrapped_median, median)\n",
    "print(f'95% central confidence interval: ({np.round(left, 4)}, {np.round(right, 4)})')"
   ]
  },
  {
   "cell_type": "markdown",
   "metadata": {},
   "source": [
    "## Доказательство"
   ]
  },
  {
   "cell_type": "markdown",
   "metadata": {},
   "source": [
    "<img src=\"images/mem_proof.jpg\"  width=\"500px\" title=\"aaa\">"
   ]
  },
  {
   "cell_type": "markdown",
   "metadata": {},
   "source": [
    "Нужно понимать что когда мы генерируем выборки, то мы по сути используем оценку распределения $\\widehat F$ вместо $F$. Где $\\widehat F$ кусочно постоянная функция. Если бы мы семлировали выборки из истинного распределения то все было бы абсолютно легитимно. \n",
    "\n",
    "При этом есть Теорема __Гливенко — Кантелли:__\n",
    "\n",
    "Пусть $X_{1},\\ldots ,X_{n},\\ldots $  - бесконечная выборка из распределения, задаваемого функцией распределения $F$. Пусть $\\hat {F} $  - выборочная функция распределения, построенная на первых  $n$ элементах выборки. Тогда\n",
    "\n",
    "$$\\lim \\limits _{n\\to \\infty }\\sup \\limits _{x\\in \\mathbb {R} }\\left|{\\hat {F}}(x)-F(x)\\right|=0\\; ~почти  ~ наверное$$\n",
    "\n",
    "Это ключевая идея на которой основывается Bootstrap"
   ]
  },
  {
   "cell_type": "code",
   "execution_count": 10,
   "metadata": {},
   "outputs": [
    {
     "data": {
      "image/png": "[encoded data removed]",
      "text/plain": [
       "<Figure size 432x288 with 1 Axes>"
      ]
     },
     "metadata": {
      "needs_background": "light"
     },
     "output_type": "display_data"
    }
   ],
   "source": [
    "# относительно предыдущего примера: бутсрап работает так хорошо, как выборка похоже на нормальное распределение\n",
    "hist(x, cumulative=False, bins=30)"
   ]
  },
  {
   "cell_type": "markdown",
   "metadata": {},
   "source": [
    "__Важные допущения Bootstrap__\n",
    "\n",
    "1) Элементы выборки независимы\n",
    "\n",
    "2) Выборка репрезентативна"
   ]
  },
  {
   "cell_type": "markdown",
   "metadata": {},
   "source": [
    "Если у нас есть понимание как эта функция должна себя вести, то можно поправить $\\widehat F$, например сгладив ее с помощью ядерных методов. Тогда мы уже будет семплировать примеры из полноценной функции распределения и все элементы в выборках будут уникальные. Это позволит уменьшить доверительные интервалы.\n",
    "\n",
    "__Замечание__: Добавление шума к элементам выборки при семплировании, аналогично сглаживанию эмпирической функции распределения."
   ]
  },
  {
   "cell_type": "markdown",
   "metadata": {},
   "source": [
    "**Сколько выборок нужно генерировать**\n",
    "\n",
    "Всего выборок может быть $C_{2n-1}^n$ это очень много. Мы никак не можем влиять на то как эмпирическая функция распределения приближает истинную. И это будет влиять на нашу ошибку. Поэтому нет смысла бороться за сотые доли путем увеличения $B$ когда у нас уже ошибка в десятых за счет использования распределения $\\widehat F$ вместо $F$ \n",
    "\n",
    "__Эвристика__: $B$ от 1k до 10k"
   ]
  },
  {
   "cell_type": "markdown",
   "metadata": {},
   "source": [
    "**Когда bootstrap не работает**\n",
    "\n",
    "Bootstrap плохо пригоден для оценивание \"граничных\" статистик таких как максимум или минимум. Им нельзя, например, правильно оценить дисперсию $\\theta$, где $\\theta$ это параметр равномерного распределения на отрезке $[0, \\theta]$. Нужно чтобы случайная величина могла \"шататься\" в обе стороны"
   ]
  },
  {
   "cell_type": "markdown",
   "metadata": {},
   "source": [
    "**Возможные косяки на понимание**\n",
    "\n",
    "- Бутстрап не дает нам новой информации о искомой статистике, а только дает способ посчитать ее вариацию. Поэтому точечную оценку нашей статистку нужно оценивать по исходной выборке, т.е. оценка $mean(bootstraped\\_statistic)$ неверное\n",
    "\n",
    "\n",
    "- Может показаться что лучше бутстрапировать для каждой выборки не $n$(количество элементов в исходной выборке), а меньше(скажем $k$), ведь получаем меньше повторений и более \"уникальные\" выборки. Но это не верно, в этом случае мы будет оценивать дисперсию статистики по выборке из $k$ элементов а не $n$, то есть мы получим совсем другую дисперсию(завышенную оценку).\n",
    "\n",
    "\n",
    "- Бутстрапировать выборки размером больше чем $n$(количество элементов в исходной выборке) абсолютно неверно. Контрпример: рассмотрим распределение Бернулли с параметром $p$. И попробуем оценить $p$ и $Var(p)$. Пусть у нас имеется выборка (0, 1), отсюда аналитически мы можем получить $\\hat{p} = 0.5$ и $Var(\\hat{p}) \\sim 1$. А если бутстрапировать выборки вида (0, 1, 0, 0, 1, ..., 0, 1), то мы получим что $Var(\\hat{p})\\rightarrow 0$ что в корне не верно."
   ]
  },
  {
   "cell_type": "markdown",
   "metadata": {},
   "source": [
    "## Пример Классификация"
   ]
  },
  {
   "cell_type": "markdown",
   "metadata": {},
   "source": [
    "Допустим что у нас есть сетка которая по картинкам делает предсказания кошка/собака и мы захотели вычислить f-score а также его вариативность"
   ]
  },
  {
   "cell_type": "code",
   "execution_count": 11,
   "metadata": {},
   "outputs": [
    {
     "name": "stdout",
     "output_type": "stream",
     "text": [
      "f_score: 0.5477391942453865\n"
     ]
    }
   ],
   "source": [
    "N = 100000\n",
    "B = 1000\n",
    "# генерируем датасет\n",
    "true_values = np.random.randint(2, size=(N,))\n",
    "predictions = (np.random.random((N, )) > 0.4).astype(int)\n",
    "f_score = f1_score(true_values, predictions)\n",
    "print('f_score:', f_score)\n",
    "data = np.array(list(zip(true_values, predictions)))"
   ]
  },
  {
   "cell_type": "markdown",
   "metadata": {},
   "source": [
    "Получили некоторую оценка работы, пока непонятно насколько это хорошо или плохо, Хочется понять насколько эта оценка статсзначима, какой ее разброс"
   ]
  },
  {
   "cell_type": "code",
   "execution_count": 12,
   "metadata": {},
   "outputs": [],
   "source": [
    "# сэмплируем выборки\n",
    "bootstrapped_data = np.random.choice(len(data), size=(B, N))\n",
    "bootstrapped_data = data[bootstrapped_data]"
   ]
  },
  {
   "cell_type": "code",
   "execution_count": 13,
   "metadata": {},
   "outputs": [
    {
     "data": {
      "application/vnd.jupyter.widget-view+json": {
       "model_id": "d9d14fcd18aa4599b4ef06d1f7f4ee0e",
       "version_major": 2,
       "version_minor": 0
      },
      "text/plain": [
       "  0%|          | 0/1000 [00:00<?, ?it/s]"
      ]
     },
     "metadata": {},
     "output_type": "display_data"
    }
   ],
   "source": [
    "# считаем распределение f-score\n",
    "f1_score_distribution = []\n",
    "for bootstrapped_sample in tqdm(bootstrapped_data):\n",
    "    f1_score_distribution.append(f1_score(bootstrapped_sample[:, 0], bootstrapped_sample[:, 1]))"
   ]
  },
  {
   "cell_type": "code",
   "execution_count": 15,
   "metadata": {},
   "outputs": [
    {
     "name": "stdout",
     "output_type": "stream",
     "text": [
      "95% central confidence interval: (0.5443, 0.5512)\n"
     ]
    },
    {
     "data": {
      "image/png": "[encoded data removed]",
      "text/plain": [
       "<Figure size 432x288 with 1 Axes>"
      ]
     },
     "metadata": {
      "needs_background": "light"
     },
     "output_type": "display_data"
    }
   ],
   "source": [
    "left, right = compute_central_confidence_interval(f1_score_distribution, f_score)\n",
    "print(f'95% central confidence interval: ({np.round(left, 4)}, {np.round(right, 4)})')\n",
    "hist(f1_score_distribution, cumulative=False, density=True, bins=20);"
   ]
  },
  {
   "cell_type": "markdown",
   "metadata": {},
   "source": [
    "Каждая из выборок семплируется независимо, а это значит что bootstrap можно легко параллелить"
   ]
  },
  {
   "cell_type": "code",
   "execution_count": 16,
   "metadata": {},
   "outputs": [],
   "source": [
    "def get_bootstrapped_metric(pair):\n",
    "    data, seed = pair  # нужно передавать seed чтобы не получать одни и те же случайные подвыборки\n",
    "    np.random.seed(seed)\n",
    "    bootstrapped_data = np.random.choice(len(data), size=(N))\n",
    "    bootstrapped_data = data[bootstrapped_data]\n",
    "    return f1_score(bootstrapped_data[:, 0], bootstrapped_data[:, 1])"
   ]
  },
  {
   "cell_type": "code",
   "execution_count": 17,
   "metadata": {},
   "outputs": [
    {
     "name": "stdout",
     "output_type": "stream",
     "text": [
      "cpu_to_use: 61\n"
     ]
    },
    {
     "data": {
      "application/vnd.jupyter.widget-view+json": {
       "model_id": "1fc845adbcba4bc28a4355e0ebed4c98",
       "version_major": 2,
       "version_minor": 0
      },
      "text/plain": [
       "0it [00:00, ?it/s]"
      ]
     },
     "metadata": {},
     "output_type": "display_data"
    }
   ],
   "source": [
    "cpu_to_use = np.max([os.cpu_count() - 3, 1])\n",
    "print('cpu_to_use:', cpu_to_use)\n",
    "\n",
    "with mp.Pool(processes=cpu_to_use) as pool:\n",
    "    f1_score_distribution = list(tqdm(pool.imap(get_bootstrapped_metric, ((data, i) for i in range(B)))))"
   ]
  },
  {
   "cell_type": "code",
   "execution_count": 18,
   "metadata": {},
   "outputs": [
    {
     "name": "stdout",
     "output_type": "stream",
     "text": [
      "95% central confidence interval: (0.5443, 0.5513)\n"
     ]
    },
    {
     "data": {
      "image/png": "[encoded data removed]",
      "text/plain": [
       "<Figure size 432x288 with 1 Axes>"
      ]
     },
     "metadata": {
      "needs_background": "light"
     },
     "output_type": "display_data"
    }
   ],
   "source": [
    "left, right = compute_central_confidence_interval(f1_score_distribution, f_score)\n",
    "print(f'95% central confidence interval: ({np.round(left, 4)}, {np.round(right, 4)})')\n",
    "hist(f1_score_distribution, cumulative=False, density=True, bins=20);"
   ]
  },
  {
   "cell_type": "markdown",
   "metadata": {},
   "source": [
    "## Пример: семплирование статистик"
   ]
  },
  {
   "cell_type": "markdown",
   "metadata": {},
   "source": [
    "Так как большинство метрик основываются на каких-то статистиках, то бывает удобно сэмплировать уже статистики для каждого примера.\n",
    "\n",
    "Пример: Допустим что у нас есть модель детекции кошек на изображениях. Матчить и истинные и предсказанные боксы уже не самая быстрая операция, особенно если нужно ее повторять несколько тысяц раз для каждого примера. Можно заранее посчитать статистики для каждого изображения и потом семплировать уже их"
   ]
  },
  {
   "cell_type": "code",
   "execution_count": 19,
   "metadata": {},
   "outputs": [],
   "source": [
    "N = 100\n",
    "B = 10000\n",
    "all_stats = []\n",
    "total_stats = {'tp': 0, 'fp': 0, 'fn': 0}\n",
    "for i in range(N):\n",
    "    stats = {'tp': np.random.randint(0, 10),\n",
    "             'fp': np.random.randint(0, 3),\n",
    "             'fn': np.random.randint(0, 6)}\n",
    "    all_stats.append(stats)\n",
    "    for key, value in stats.items():\n",
    "        total_stats[key] += value"
   ]
  },
  {
   "cell_type": "code",
   "execution_count": 22,
   "metadata": {},
   "outputs": [
    {
     "data": {
      "text/plain": [
       "{'tp': 9, 'fp': 2, 'fn': 4}"
      ]
     },
     "execution_count": 22,
     "metadata": {},
     "output_type": "execute_result"
    }
   ],
   "source": [
    "# статистики на одном \"изображении\"\n",
    "all_stats[1]"
   ]
  },
  {
   "cell_type": "code",
   "execution_count": 23,
   "metadata": {},
   "outputs": [
    {
     "data": {
      "text/plain": [
       "{'tp': 434, 'fp': 96, 'fn': 268}"
      ]
     },
     "execution_count": 23,
     "metadata": {},
     "output_type": "execute_result"
    }
   ],
   "source": [
    "# общие статистики по всему \"датасету\"\n",
    "total_stats"
   ]
  },
  {
   "cell_type": "code",
   "execution_count": 24,
   "metadata": {},
   "outputs": [
    {
     "name": "stdout",
     "output_type": "stream",
     "text": [
      "precision: 0.8188679243737985\n",
      "recall: 0.6182336181455508\n",
      "f_score: 0.7045454544310803\n"
     ]
    }
   ],
   "source": [
    "precision = total_stats['tp'] / (total_stats['tp'] + total_stats['fp'] + 1e-7)\n",
    "recall = total_stats['tp'] / (total_stats['tp'] + total_stats['fn'] + 1e-7)\n",
    "f_score = 2 * precision * recall / (precision + recall)\n",
    "print('precision:', precision)\n",
    "print('recall:', recall)\n",
    "print('f_score:', f_score)"
   ]
  },
  {
   "cell_type": "code",
   "execution_count": 25,
   "metadata": {},
   "outputs": [],
   "source": [
    "def _cumulative_sum(all_stats: List[Dict[str, int]]) -> Dict[str, int]:\n",
    "    total_stats = {'tp': 0, 'fp': 0, 'fn': 0}\n",
    "    for stats in all_stats:\n",
    "        for key, value in stats.items():\n",
    "            total_stats[key] += value\n",
    "    return total_stats"
   ]
  },
  {
   "cell_type": "code",
   "execution_count": 26,
   "metadata": {},
   "outputs": [],
   "source": [
    "def get_bootstrapped_metric(pair) -> Tuple[float, float, float]:\n",
    "    all_stats, seed = pair\n",
    "    np.random.seed(seed)\n",
    "    all_stats = np.random.choice(all_stats, size=N)\n",
    "    total_stats = _cumulative_sum(all_stats)\n",
    "    precision = total_stats['tp'] / (total_stats['tp'] + total_stats['fp'] + 1e-7)\n",
    "    recall = total_stats['tp'] / (total_stats['tp'] + total_stats['fn'] + 1e-7)\n",
    "    f_score = 2 * precision * recall / (precision + recall)\n",
    "    return (precision, recall, f_score)"
   ]
  },
  {
   "cell_type": "code",
   "execution_count": 27,
   "metadata": {},
   "outputs": [
    {
     "name": "stdout",
     "output_type": "stream",
     "text": [
      "cpu_to_use: 61\n"
     ]
    },
    {
     "data": {
      "application/vnd.jupyter.widget-view+json": {
       "model_id": "35db272513cf4be59362cf034924bb48",
       "version_major": 2,
       "version_minor": 0
      },
      "text/plain": [
       "0it [00:00, ?it/s]"
      ]
     },
     "metadata": {},
     "output_type": "display_data"
    }
   ],
   "source": [
    "cpu_to_use = np.max([os.cpu_count() - 3, 1])\n",
    "print('cpu_to_use:', cpu_to_use)\n",
    "\n",
    "with mp.Pool(processes=cpu_to_use) as pool:\n",
    "    score_distribution = list(tqdm(pool.imap(get_bootstrapped_metric, ((all_stats, i) for i in range(B)))))\n",
    "score_distribution = np.array(score_distribution)"
   ]
  },
  {
   "cell_type": "code",
   "execution_count": 28,
   "metadata": {},
   "outputs": [
    {
     "name": "stdout",
     "output_type": "stream",
     "text": [
      "precision 95% central confidence interval: (0.7904, 0.851)\n",
      "recall 95% central confidence interval: (0.5801, 0.6575)\n",
      "f_score 95% central confidence interval: (0.6742, 0.7381)\n"
     ]
    }
   ],
   "source": [
    "# Посчитаем доверительные интервалы для метрик\n",
    "scores = (precision, recall, f_score)\n",
    "for idx, score in enumerate(['precision', 'recall', 'f_score']):\n",
    "    left, right = compute_central_confidence_interval(score_distribution[:, idx], scores[idx])\n",
    "    print(f'{score} 95% central confidence interval: ({np.round(left, 4)}, {np.round(right, 4)})')"
   ]
  },
  {
   "cell_type": "markdown",
   "metadata": {},
   "source": [
    "## Linear Regression"
   ]
  },
  {
   "cell_type": "markdown",
   "metadata": {},
   "source": [
    "Бутстреп дает также способ получать доверительные интервалы для коэффициентов(и любых других статистик) Линейных моделей\n",
    "\n",
    "__Алгоритм__:\n",
    "\n",
    "1) Обучаем модель и сохраняем предсказания $\\widehat{y \\,}_i $ и соответствующие остатки$\\widehat{\\varepsilon \\,}_ {i} = y_{i} - {\\widehat {y \\,}}_{i}, (i = 1, \\dots, n)$}\n",
    "\n",
    "2) Для каждой пары $( x_i , y_i )$, добавляем остаток $\\widehat {\\varepsilon \\,}_{j}$ , к истинному значению  $\\widehat {y \\,}_{i}$. Другими словами, создайте синтетические переменные ответа $\\displaystyle y_{i}^{*} = {\\widehat{y \\,}} _{i} + {\\widehat {\\varepsilon \\,}}_{j}$ где $j$ выбирается случайным образом из списка $(1,..., n )$ для каждого $i$ .\n",
    "\n",
    "3) Обучаем модель используюя фиктивные переменные target $у_{i}^{*}$, сохраняем интересующие величины (например параметры,$\\widehat {\\mu}_{i}^{*}$, оцененный из синтетического $у_{i}^{*}$.\n",
    "\n",
    "4) Повторите шаги 2 и 3 большое количество раз.\n"
   ]
  },
  {
   "cell_type": "code",
   "execution_count": 29,
   "metadata": {},
   "outputs": [],
   "source": [
    "import statsmodels.api as sm\n",
    "from sklearn.linear_model import LinearRegression"
   ]
  },
  {
   "cell_type": "code",
   "execution_count": 30,
   "metadata": {},
   "outputs": [],
   "source": [
    "# Генерируем выборку с добавление шума\n",
    "N_POINTS = 1000\n",
    "x_1 = np.linspace(0, 3, N_POINTS)\n",
    "x_2 = np.linspace(-4, 6, N_POINTS)\n",
    "x_ones = np.array([1] * N_POINTS)\n",
    "y = x_1 * 2 + x_2 * 5 + np.random.uniform(-1.5, 1.5, N_POINTS)"
   ]
  },
  {
   "cell_type": "code",
   "execution_count": 31,
   "metadata": {},
   "outputs": [
    {
     "data": {
      "text/html": [
       "<table class=\"simpletable\">\n",
       "<caption>OLS Regression Results</caption>\n",
       "<tr>\n",
       "  <th>Dep. Variable:</th>            <td>y</td>        <th>  R-squared:         </th> <td>   0.997</td> \n",
       "</tr>\n",
       "<tr>\n",
       "  <th>Model:</th>                   <td>OLS</td>       <th>  Adj. R-squared:    </th> <td>   0.997</td> \n",
       "</tr>\n",
       "<tr>\n",
       "  <th>Method:</th>             <td>Least Squares</td>  <th>  F-statistic:       </th> <td>3.508e+05</td>\n",
       "</tr>\n",
       "<tr>\n",
       "  <th>Date:</th>             <td>Sun, 13 Nov 2022</td> <th>  Prob (F-statistic):</th>  <td>  0.00</td>  \n",
       "</tr>\n",
       "<tr>\n",
       "  <th>Time:</th>                 <td>20:35:48</td>     <th>  Log-Likelihood:    </th> <td> -1272.6</td> \n",
       "</tr>\n",
       "<tr>\n",
       "  <th>No. Observations:</th>      <td>  1000</td>      <th>  AIC:               </th> <td>   2549.</td> \n",
       "</tr>\n",
       "<tr>\n",
       "  <th>Df Residuals:</th>          <td>   998</td>      <th>  BIC:               </th> <td>   2559.</td> \n",
       "</tr>\n",
       "<tr>\n",
       "  <th>Df Model:</th>              <td>     1</td>      <th>                     </th>     <td> </td>    \n",
       "</tr>\n",
       "<tr>\n",
       "  <th>Covariance Type:</th>      <td>nonrobust</td>    <th>                     </th>     <td> </td>    \n",
       "</tr>\n",
       "</table>\n",
       "<table class=\"simpletable\">\n",
       "<tr>\n",
       "   <td></td>     <th>coef</th>     <th>std err</th>      <th>t</th>      <th>P>|t|</th>  <th>[0.025</th>    <th>0.975]</th>  \n",
       "</tr>\n",
       "<tr>\n",
       "  <th>x1</th> <td>    1.9941</td> <td>    0.024</td> <td>   82.699</td> <td> 0.000</td> <td>    1.947</td> <td>    2.041</td>\n",
       "</tr>\n",
       "<tr>\n",
       "  <th>x2</th> <td>    5.0065</td> <td>    0.014</td> <td>  366.451</td> <td> 0.000</td> <td>    4.980</td> <td>    5.033</td>\n",
       "</tr>\n",
       "</table>\n",
       "<table class=\"simpletable\">\n",
       "<tr>\n",
       "  <th>Omnibus:</th>       <td>810.108</td> <th>  Durbin-Watson:     </th> <td>   1.853</td>\n",
       "</tr>\n",
       "<tr>\n",
       "  <th>Prob(Omnibus):</th> <td> 0.000</td>  <th>  Jarque-Bera (JB):  </th> <td>  61.266</td>\n",
       "</tr>\n",
       "<tr>\n",
       "  <th>Skew:</th>          <td>-0.021</td>  <th>  Prob(JB):          </th> <td>4.97e-14</td>\n",
       "</tr>\n",
       "<tr>\n",
       "  <th>Kurtosis:</th>      <td> 1.788</td>  <th>  Cond. No.          </th> <td>    3.25</td>\n",
       "</tr>\n",
       "</table><br/><br/>Notes:<br/>[1] Standard Errors assume that the covariance matrix of the errors is correctly specified."
      ],
      "text/plain": [
       "<class 'statsmodels.iolib.summary.Summary'>\n",
       "\"\"\"\n",
       "                            OLS Regression Results                            \n",
       "==============================================================================\n",
       "Dep. Variable:                      y   R-squared:                       0.997\n",
       "Model:                            OLS   Adj. R-squared:                  0.997\n",
       "Method:                 Least Squares   F-statistic:                 3.508e+05\n",
       "Date:                Sun, 13 Nov 2022   Prob (F-statistic):               0.00\n",
       "Time:                        20:35:48   Log-Likelihood:                -1272.6\n",
       "No. Observations:                1000   AIC:                             2549.\n",
       "Df Residuals:                     998   BIC:                             2559.\n",
       "Df Model:                           1                                         \n",
       "Covariance Type:            nonrobust                                         \n",
       "==============================================================================\n",
       "                 coef    std err          t      P>|t|      [0.025      0.975]\n",
       "------------------------------------------------------------------------------\n",
       "x1             1.9941      0.024     82.699      0.000       1.947       2.041\n",
       "x2             5.0065      0.014    366.451      0.000       4.980       5.033\n",
       "==============================================================================\n",
       "Omnibus:                      810.108   Durbin-Watson:                   1.853\n",
       "Prob(Omnibus):                  0.000   Jarque-Bera (JB):               61.266\n",
       "Skew:                          -0.021   Prob(JB):                     4.97e-14\n",
       "Kurtosis:                       1.788   Cond. No.                         3.25\n",
       "==============================================================================\n",
       "\n",
       "Notes:\n",
       "[1] Standard Errors assume that the covariance matrix of the errors is correctly specified.\n",
       "\"\"\""
      ]
     },
     "execution_count": 31,
     "metadata": {},
     "output_type": "execute_result"
    }
   ],
   "source": [
    "# Обучаем модель МНК и выписываем в том числе теоретические доверительные интервалы\n",
    "data = np.array(list(zip(x_1, x_2)))\n",
    "mod = sm.OLS(y, data)\n",
    "res = mod.fit()\n",
    "res.summary()"
   ]
  },
  {
   "cell_type": "code",
   "execution_count": 32,
   "metadata": {},
   "outputs": [
    {
     "name": "stdout",
     "output_type": "stream",
     "text": [
      "[1.99412671 5.00646974]\n"
     ]
    }
   ],
   "source": [
    "# Обучаем линейную модель\n",
    "model = LinearRegression(fit_intercept=False)\n",
    "model.fit(data, y)\n",
    "coefs = model.coef_\n",
    "print(coefs)\n",
    "# сохраняем предсказания и остатки\n",
    "predicted_y = model.predict(data)\n",
    "residuals = y - predicted_y"
   ]
  },
  {
   "cell_type": "code",
   "execution_count": 33,
   "metadata": {},
   "outputs": [
    {
     "data": {
      "application/vnd.jupyter.widget-view+json": {
       "model_id": "06beb478ff2f4a1ebaa38dedc37dbf78",
       "version_major": 2,
       "version_minor": 0
      },
      "text/plain": [
       "  0%|          | 0/1000 [00:00<?, ?it/s]"
      ]
     },
     "metadata": {},
     "output_type": "display_data"
    }
   ],
   "source": [
    "# Обучаем множество моделей с искривленным target и сохраняем коэффициенты\n",
    "N_bootstraps = 1000\n",
    "coef_list = []\n",
    "for _ in tqdm(range(N_bootstraps)):\n",
    "    random_residuals = np.random.choice(residuals, size=len(residuals), replace=True)\n",
    "    new_y = predicted_y + random_residuals\n",
    "    model = LinearRegression(fit_intercept=False)\n",
    "    model.fit(data, new_y)\n",
    "    coef_list.append(model.coef_)\n",
    "# для удобства преобразовываем в numpy\n",
    "coef_list = np.array(coef_list)"
   ]
  },
  {
   "cell_type": "code",
   "execution_count": 34,
   "metadata": {},
   "outputs": [
    {
     "name": "stdout",
     "output_type": "stream",
     "text": [
      "95% central confidence interval for 0 coef: (1.9492, 2.041)\n",
      "95% central confidence interval for 1 coef: (4.9778, 5.0318)\n"
     ]
    }
   ],
   "source": [
    "# Посчитаем доверительные интервалы для коэффициентов\n",
    "for coef_idx, coef in enumerate(coefs):\n",
    "    left, right = compute_central_confidence_interval(coef_list[:, coef_idx], coef)\n",
    "    print(f'95% central confidence interval for {coef_idx} coef: ({np.round(left, 4)}, {np.round(right, 4)})')"
   ]
  },
  {
   "cell_type": "markdown",
   "metadata": {},
   "source": [
    "## Poisson Bootsrap"
   ]
  },
  {
   "cell_type": "markdown",
   "metadata": {},
   "source": [
    "Обычный бутстрап требует случайного выбора n элементов из списка, что эквивалентно извлечению из биноминального распределения распределения с параметрами $n$ и $1 / n$. \n",
    "\n",
    "__Справка__: биноминальное распределение - количество успехов среди n экспериметов.\n",
    "\n",
    "То есть вместо того чтобы выбирать объект или нет, предсказывается сколько раз его взять. Конечно в этом случае в отдельной выборке количество примеров будет не равна n, однако при больших $n$ (в силу закона больших чисел) количество примеров будет близко к $n$\n",
    "\n",
    "Далее биноминальное распределение с параметрами $n$ и $1 / n$ можно заменить на распределение Пуассона с параметром 1. Заметим что теперь нет зависимости от $n$. \n",
    "\n",
    "$$\\displaystyle \\lim _{n\\to \\infty }\\operatorname {Binomial} (n,1/n)=\\operatorname {Poisson} (1)$$\n",
    "\n",
    "То есть чтобы определить сколько раз объект попадет в текущую бутстреп выборку не нужно заранее знать $n$!\n",
    "Это означает что мы можем генерировать бутстреп на лету когда данные прилетают в потоке. Кроме того такое легче параллелить когда много данных"
   ]
  },
  {
   "cell_type": "code",
   "execution_count": 35,
   "metadata": {},
   "outputs": [],
   "source": [
    "N = 10 ** 7 \n",
    "N_bootstraps = 1000\n",
    "threshold = 0.6\n",
    "labels = np.random.randint(0,2,N)\n",
    "predicts = (np.clip(np.random.normal(0.5,1, N),0,1) > threshold).astype(int)"
   ]
  },
  {
   "cell_type": "code",
   "execution_count": 36,
   "metadata": {},
   "outputs": [],
   "source": [
    "mp.set_start_method('fork', force=True)\n",
    "def poisson_bootstrap_tp_fp_fn_tn(data: List[Tuple[float, float, int]]) ->List[np.ndarray]:\n",
    "    data = data[0]\n",
    "    TP = np.zeros((N_bootstraps))\n",
    "    FP = np.zeros((N_bootstraps))\n",
    "    FN = np.zeros((N_bootstraps))\n",
    "    TN = np.zeros((N_bootstraps))\n",
    "    for current_label, current_predict, index in data:\n",
    "        np.random.seed(index)\n",
    "        p_sample = np.random.poisson(1, N_bootstraps)\n",
    "        \n",
    "        if current_label == 1 and current_predict == 1:\n",
    "            TP += p_sample\n",
    "        elif current_label == 1 and current_predict == 0:\n",
    "            FN += p_sample\n",
    "        elif current_label == 0 and current_predict == 1:\n",
    "            FP += p_sample\n",
    "        elif current_label == 0 and current_predict == 0:\n",
    "            TN += p_sample\n",
    "    return [TP, FP, FN, TN]"
   ]
  },
  {
   "cell_type": "markdown",
   "metadata": {},
   "source": [
    "__Лирическое отступление__: для того чтобы понять насколько устойчив алгоритм классификации можно добавлять к выходу модели небольшой шум. И если между классами есть некоторый зазор то качество изомениться не должно. Если его нет или он маленький, то качество измениться в корне"
   ]
  },
  {
   "cell_type": "code",
   "execution_count": 37,
   "metadata": {},
   "outputs": [],
   "source": [
    "# создаем генератор который будет выдавать пачки объектов размером chunk_size\n",
    "chunk_size = 10 ** 5\n",
    "generator = (\n",
    "    (\n",
    "        [\n",
    "            (labels[x + y],\n",
    "             predicts[x + y],\n",
    "             x + y,\n",
    "            )\n",
    "            for x in range(chunk_size)\n",
    "            if x + y < N\n",
    "        ],\n",
    "    )\n",
    "        for y in range(0,N,chunk_size)\n",
    ")"
   ]
  },
  {
   "cell_type": "code",
   "execution_count": 38,
   "metadata": {},
   "outputs": [
    {
     "name": "stdout",
     "output_type": "stream",
     "text": [
      "61\n"
     ]
    },
    {
     "data": {
      "application/vnd.jupyter.widget-view+json": {
       "model_id": "7ceb78254e484bb6aeb528347da43747",
       "version_major": 2,
       "version_minor": 0
      },
      "text/plain": [
       "  0%|          | 0/100 [00:00<?, ?it/s]"
      ]
     },
     "metadata": {},
     "output_type": "display_data"
    }
   ],
   "source": [
    "cpu_to_use = np.max([os.cpu_count() - 3,1])\n",
    "print(cpu_to_use)\n",
    "\n",
    "with mp.Pool(processes=cpu_to_use) as pool:\n",
    "    stat_list = list(tqdm(pool.imap(poisson_bootstrap_tp_fp_fn_tn,generator),\n",
    "                    total = N // chunk_size))"
   ]
  },
  {
   "cell_type": "code",
   "execution_count": 39,
   "metadata": {},
   "outputs": [],
   "source": [
    "stat_list = np.array(stat_list).sum(0) # просумируем статистики по всем батчам\n",
    "f_score_list = []\n",
    "for idx in range(N_bootstraps):\n",
    "    tp, fp, fn, tn = stat_list[:, idx]\n",
    "    precision = tp / (tp + fp + 1e-7)\n",
    "    recall = tp / (tp + fn + 1e-7)\n",
    "    f1 = 2 * precision * recall / (precision + recall)\n",
    "    f_score_list.append(f1)"
   ]
  },
  {
   "cell_type": "code",
   "execution_count": 40,
   "metadata": {},
   "outputs": [
    {
     "data": {
      "image/png": "[encoded data removed]",
      "text/plain": [
       "<Figure size 432x288 with 1 Axes>"
      ]
     },
     "metadata": {
      "needs_background": "light"
     },
     "output_type": "display_data"
    }
   ],
   "source": [
    "hist(f_score_list, title='f1 score')"
   ]
  },
  {
   "cell_type": "markdown",
   "metadata": {},
   "source": [
    "Теперь воспользуемся обычным бутстрепом и посмотрим как быстро будет работать он"
   ]
  },
  {
   "cell_type": "code",
   "execution_count": 41,
   "metadata": {},
   "outputs": [],
   "source": [
    "def get_bootstrapped_metric(bundle):\n",
    "    data, seed = bundle\n",
    "    np.random.seed(seed)\n",
    "    bootstrapped_data = np.random.choice(len(data), size=(N))\n",
    "    bootstrapped_data = data[bootstrapped_data]\n",
    "    return f1_score(bootstrapped_data[:, 0], bootstrapped_data[:, 1])"
   ]
  },
  {
   "cell_type": "code",
   "execution_count": 42,
   "metadata": {},
   "outputs": [
    {
     "name": "stdout",
     "output_type": "stream",
     "text": [
      "(10000000, 2)\n"
     ]
    }
   ],
   "source": [
    "data = np.array(list(zip(labels, predicts)))\n",
    "print(data.shape)"
   ]
  },
  {
   "cell_type": "code",
   "execution_count": 43,
   "metadata": {},
   "outputs": [
    {
     "name": "stdout",
     "output_type": "stream",
     "text": [
      "61\n"
     ]
    },
    {
     "data": {
      "application/vnd.jupyter.widget-view+json": {
       "model_id": "97d25604be214f4388fa6f887ae1f220",
       "version_major": 2,
       "version_minor": 0
      },
      "text/plain": [
       "  0%|          | 0/1000 [00:00<?, ?it/s]"
      ]
     },
     "metadata": {},
     "output_type": "display_data"
    }
   ],
   "source": [
    "cpu_to_use = np.max([os.cpu_count() - 3, 1])\n",
    "print(cpu_to_use)\n",
    "\n",
    "with mp.Pool(processes=cpu_to_use) as pool:\n",
    "    stat_list = list(tqdm(pool.imap(get_bootstrapped_metric, ((data, i) for i in range(N_bootstraps))),\n",
    "                     total =N_bootstraps))"
   ]
  },
  {
   "cell_type": "code",
   "execution_count": 44,
   "metadata": {},
   "outputs": [
    {
     "data": {
      "image/png": "[encoded data removed]",
      "text/plain": [
       "<Figure size 432x288 with 1 Axes>"
      ]
     },
     "metadata": {
      "needs_background": "light"
     },
     "output_type": "display_data"
    }
   ],
   "source": [
    "hist(stat_list, title='f1 score')"
   ]
  },
  {
   "cell_type": "markdown",
   "metadata": {},
   "source": [
    "Мы видим те же результаты, при это Poisson Bootsrap в несколько раз быстрее!"
   ]
  },
  {
   "cell_type": "markdown",
   "metadata": {},
   "source": [
    "### Дальнейшее чтение:\n",
    "\n",
    "- [Лекция ШАДа по бутстрепу](https://disk.yandex.ru/i/-UuDEGlGVhbAeA)\n",
    "- Слайды лекции ШАДа по бутстрепу(ниже)\n",
    "    \n",
    "    [lecture_5_bootstrap.pdf](https://s3-us-west-2.amazonaws.com/secure.notion-static.com/6b4c4475-5edb-4b07-afc6-d3cc706cd6ac/lecture_5_bootstrap.pdf)\n",
    "    \n",
    "- [Семинар ШАДа по бутстрепу](https://disk.yandex.ru/i/vngDpxiO5FOmFA)\n",
    "- [bootstrapped - библиотека для бутстрепа](https://github.com/facebookarchive/bootstrapped)\n",
    "- [abito - библиотека для статистики](https://github.com/avito-tech/abito)\n",
    "- [Конспект Квантиль](http://quantile.ru/03/03-SA.pdf)\n",
    "- [Лекция: Пуассон-Bootstrap](https://www.youtube.com/watch?v=Zki9VMzxcFU&t=1688s)"
   ]
  },
  {
   "cell_type": "code",
   "execution_count": null,
   "metadata": {},
   "outputs": [],
   "source": []
  }
 ],
 "metadata": {
  "kernelspec": {
   "display_name": "Python 3",
   "language": "python",
   "name": "python3"
  },
  "language_info": {
   "codemirror_mode": {
    "name": "ipython",
    "version": 3
   },
   "file_extension": ".py",
   "mimetype": "text/x-python",
   "name": "python",
   "nbconvert_exporter": "python",
   "pygments_lexer": "ipython3",
   "version": "3.7.4"
  }
 },
 "nbformat": 4,
 "nbformat_minor": 5
}
